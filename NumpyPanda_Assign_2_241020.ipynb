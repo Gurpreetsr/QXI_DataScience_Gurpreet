{
  "nbformat": 4,
  "nbformat_minor": 0,
  "metadata": {
    "colab": {
      "name": "Copy of NumpyPanda  Assign 2 241020",
      "provenance": [],
      "collapsed_sections": [],
      "authorship_tag": "ABX9TyMq5l12qYejtNN/wIsYewkB",
      "include_colab_link": true
    },
    "kernelspec": {
      "name": "python3",
      "display_name": "Python 3"
    }
  },
  "cells": [
    {
      "cell_type": "markdown",
      "metadata": {
        "id": "view-in-github",
        "colab_type": "text"
      },
      "source": [
        "<a href=\"https://colab.research.google.com/github/Gurpreetsr/QXI_DataScience_Gurpreet/blob/main/NumpyPanda_Assign_2_241020.ipynb\" target=\"_parent\"><img src=\"https://colab.research.google.com/assets/colab-badge.svg\" alt=\"Open In Colab\"/></a>"
      ]
    },
    {
      "cell_type": "code",
      "metadata": {
        "id": "hjrfe2AFWsvc",
        "outputId": "d78aa63d-5ab9-46c8-f9e5-addd3ba07839",
        "colab": {
          "base_uri": "https://localhost:8080/",
          "height": 34
        }
      },
      "source": [
        "# 1 Product\n",
        "import numpy as np\n",
        "a1 = np.array([1, 2, 3, 4])\n",
        "a2 = np.array([5, 6, 7, 8])\n",
        "z = np.prod([a1,a2])\n",
        "print(z)\n",
        "\n"
      ],
      "execution_count": null,
      "outputs": [
        {
          "output_type": "stream",
          "text": [
            "40320\n"
          ],
          "name": "stdout"
        }
      ]
    },
    {
      "cell_type": "code",
      "metadata": {
        "id": "pnONO-_ca7Y1",
        "outputId": "9d9b2b65-9ebb-45d3-f38a-ff3819a2ae89",
        "colab": {
          "base_uri": "https://localhost:8080/",
          "height": 34
        }
      },
      "source": [
        "# 2 GCD\n",
        "n1 = 4\n",
        "n2 = 8\n",
        "x = np.gcd(n1, n2)\n",
        "print(x)\n"
      ],
      "execution_count": null,
      "outputs": [
        {
          "output_type": "stream",
          "text": [
            "4\n"
          ],
          "name": "stdout"
        }
      ]
    },
    {
      "cell_type": "code",
      "metadata": {
        "id": "fVQnWlJjlgyc",
        "outputId": "1f0e1567-ec07-41fa-bb0f-763d0d6fa018",
        "colab": {
          "base_uri": "https://localhost:8080/",
          "height": 34
        }
      },
      "source": [
        "# 3 Power\n",
        "n1 = np.array([10, 15, 20])\n",
        "n2 = np.array([1, 2, 3])\n",
        "p = np.power(n1, n2)\n",
        "print(p)"
      ],
      "execution_count": null,
      "outputs": [
        {
          "output_type": "stream",
          "text": [
            "[  10  225 8000]\n"
          ],
          "name": "stdout"
        }
      ]
    },
    {
      "cell_type": "code",
      "metadata": {
        "id": "Ny9Kx5CCnL2O",
        "outputId": "2ef08669-fe22-4831-8e39-166f9d79bc95",
        "colab": {
          "base_uri": "https://localhost:8080/",
          "height": 34
        }
      },
      "source": [
        "# 4 LCM \n",
        "s = np.arange(2,12)\n",
        "y = np.lcm.reduce(s)\n",
        "print(y)\n"
      ],
      "execution_count": null,
      "outputs": [
        {
          "output_type": "stream",
          "text": [
            "27720\n"
          ],
          "name": "stdout"
        }
      ]
    },
    {
      "cell_type": "code",
      "metadata": {
        "id": "rPN7LHnroDAF",
        "outputId": "91db908f-f8f6-4879-d6d9-227a12147a32",
        "colab": {
          "base_uri": "https://localhost:8080/",
          "height": 34
        }
      },
      "source": [
        "# 5 Sin\n",
        "y = np.sin(np.pi/4)\n",
        "print(y)"
      ],
      "execution_count": null,
      "outputs": [
        {
          "output_type": "stream",
          "text": [
            "0.7071067811865475\n"
          ],
          "name": "stdout"
        }
      ]
    },
    {
      "cell_type": "code",
      "metadata": {
        "id": "Od2hkGDttCn4",
        "outputId": "c5e915fe-a9ac-430d-cbb6-87488e920982",
        "colab": {
          "base_uri": "https://localhost:8080/",
          "height": 34
        }
      },
      "source": [
        "# 6 Slicing Step\n",
        "step = np.array([1, 2, 3, 4, 5, 6, 7])\n",
        "print(step[1:5:2])"
      ],
      "execution_count": null,
      "outputs": [
        {
          "output_type": "stream",
          "text": [
            "[2 4]\n"
          ],
          "name": "stdout"
        }
      ]
    },
    {
      "cell_type": "code",
      "metadata": {
        "id": "MKdxBM7nuliG",
        "outputId": "c8a794ef-1a57-4ff3-e027-059fce4b00eb",
        "colab": {
          "base_uri": "https://localhost:8080/",
          "height": 34
        }
      },
      "source": [
        " # 7 Copy \n",
        " x = np.array([1, 2, 3, 4, 5]) \n",
        " y = x.copy()\n",
        " x[3] = 100\n",
        " print(x)"
      ],
      "execution_count": null,
      "outputs": [
        {
          "output_type": "stream",
          "text": [
            "[  1   2   3 100   5]\n"
          ],
          "name": "stdout"
        }
      ]
    },
    {
      "cell_type": "code",
      "metadata": {
        "id": "ScwOxWKFvI2m",
        "outputId": "d1a439ee-c825-43c5-e68c-dc8fb820a81c",
        "colab": {
          "base_uri": "https://localhost:8080/",
          "height": 34
        }
      },
      "source": [
        "# 8 Split\n",
        "x = np.array([1, 2, 3, 4, 5, 6, 7, 8])\n",
        "Output = np.array_split(x,4)\n",
        "print(Output)"
      ],
      "execution_count": null,
      "outputs": [
        {
          "output_type": "stream",
          "text": [
            "[array([1, 2]), array([3, 4]), array([5, 6]), array([7, 8])]\n"
          ],
          "name": "stdout"
        }
      ]
    },
    {
      "cell_type": "code",
      "metadata": {
        "id": "QdjlgrMIyVji",
        "outputId": "66e70cf6-6702-401b-e599-357bc77a37db",
        "colab": {
          "base_uri": "https://localhost:8080/",
          "height": 34
        }
      },
      "source": [
        "\n",
        "# 9 Searchsort\n",
        "x = np.array([ 1,2,6,9])\n",
        "x =np.searchsorted(x,2)\n",
        "print(x)"
      ],
      "execution_count": null,
      "outputs": [
        {
          "output_type": "stream",
          "text": [
            "1\n"
          ],
          "name": "stdout"
        }
      ]
    },
    {
      "cell_type": "code",
      "metadata": {
        "id": "wG0NOSrk5GKX",
        "outputId": "f6713ce0-d930-42b7-d4f8-4f7ebe2c2b15",
        "colab": {
          "base_uri": "https://localhost:8080/",
          "height": 34
        }
      },
      "source": [
        "# 10 Search left\n",
        "s = np.array([2,3,4,5])\n",
        "x = np.searchsorted(s,3,side='Left')\n",
        "print(x)"
      ],
      "execution_count": null,
      "outputs": [
        {
          "output_type": "stream",
          "text": [
            "1\n"
          ],
          "name": "stdout"
        }
      ]
    },
    {
      "cell_type": "code",
      "metadata": {
        "id": "PkxVtX0R6FMK",
        "outputId": "b0b42b69-ad00-4459-cd0c-6a411191d983",
        "colab": {
          "base_uri": "https://localhost:8080/",
          "height": 34
        }
      },
      "source": [
        "# 11 Permutation\n",
        "from numpy import random\n",
        "x = np.array([1,2,3,4,5])\n",
        "print(random.permutation(x))"
      ],
      "execution_count": null,
      "outputs": [
        {
          "output_type": "stream",
          "text": [
            "[5 4 1 3 2]\n"
          ],
          "name": "stdout"
        }
      ]
    },
    {
      "cell_type": "code",
      "metadata": {
        "id": "kC9sIMHcBj1B",
        "outputId": "859a630a-3817-4dfc-b251-0b815048081e",
        "colab": {
          "base_uri": "https://localhost:8080/",
          "height": 88
        }
      },
      "source": [
        "# 12 Future value period = 10 yrs,diffrent interest rate =5%,6%,7%\n",
        "x = np.array((0.05,0.06,0.07))/12\n",
        "np.fv(x,10*12,-100,-150)"
      ],
      "execution_count": null,
      "outputs": [
        {
          "output_type": "stream",
          "text": [
            "/usr/local/lib/python3.6/dist-packages/ipykernel_launcher.py:3: DeprecationWarning: numpy.fv is deprecated and will be removed from NumPy 1.20. Use numpy_financial.fv instead (https://pypi.org/project/numpy-financial/).\n",
            "  This is separate from the ipykernel package so we can avoid doing imports until\n"
          ],
          "name": "stderr"
        },
        {
          "output_type": "execute_result",
          "data": {
            "text/plain": [
              "array([15775.27936922, 16660.84419075, 17609.92994986])"
            ]
          },
          "metadata": {
            "tags": []
          },
          "execution_count": 69
        }
      ]
    },
    {
      "cell_type": "code",
      "metadata": {
        "id": "bn20WhS5Mlnk",
        "outputId": "f9745394-9864-4aac-d208-1b235f80f162",
        "colab": {
          "base_uri": "https://localhost:8080/",
          "height": 88
        }
      },
      "source": [
        "#13 Period of Payment  Payment/month = 200,Loan = 10000,int = 6%\n",
        "np.nper(0.06/12,-200,10000)\n",
        "\n",
        "\n"
      ],
      "execution_count": null,
      "outputs": [
        {
          "output_type": "stream",
          "text": [
            "/usr/local/lib/python3.6/dist-packages/ipykernel_launcher.py:2: DeprecationWarning: numpy.nper is deprecated and will be removed from NumPy 1.20. Use numpy_financial.nper instead (https://pypi.org/project/numpy-financial/).\n",
            "  \n"
          ],
          "name": "stderr"
        },
        {
          "output_type": "execute_result",
          "data": {
            "text/plain": [
              "array(57.68013596)"
            ]
          },
          "metadata": {
            "tags": []
          },
          "execution_count": 74
        }
      ]
    },
    {
      "cell_type": "code",
      "metadata": {
        "id": "4ExWmT9_Q1CW",
        "outputId": "0915e1bb-3d17-4a5b-9f55-1a0e8e6b0119",
        "colab": {
          "base_uri": "https://localhost:8080/",
          "height": 34
        }
      },
      "source": [
        "#14 View\n",
        "x = np.array([1,2,3,4,5])\n",
        "y = x.view()\n",
        "x[2] = 52\n",
        "print(x)"
      ],
      "execution_count": null,
      "outputs": [
        {
          "output_type": "stream",
          "text": [
            "[ 1  2 52  4  5]\n"
          ],
          "name": "stdout"
        }
      ]
    },
    {
      "cell_type": "code",
      "metadata": {
        "id": "2AxRbSL-SGF9",
        "outputId": "4afedc9c-d5e1-4cb2-8fd5-c5c4b4266c68",
        "colab": {
          "base_uri": "https://localhost:8080/",
          "height": 34
        }
      },
      "source": [
        "#15 Choice\n",
        "a = random.choice([1,2,3,4],p=[0.1,0.3,0.2,0.4],size=(10))\n",
        "print(a)"
      ],
      "execution_count": null,
      "outputs": [
        {
          "output_type": "stream",
          "text": [
            "[2 4 4 1 4 4 2 4 3 4]\n"
          ],
          "name": "stdout"
        }
      ]
    },
    {
      "cell_type": "code",
      "metadata": {
        "id": "7ZAuAk6eTWzJ",
        "outputId": "3f96b6c6-6934-4a84-d556-ee4dc7baf7c9",
        "colab": {
          "base_uri": "https://localhost:8080/",
          "height": 51
        }
      },
      "source": [
        "#16  Normal Distribution\n",
        "from numpy import random\n",
        "d = random.normal(size=(2,3))\n",
        "print (d)"
      ],
      "execution_count": null,
      "outputs": [
        {
          "output_type": "stream",
          "text": [
            "[[ 0.10100981 -1.10886447 -1.17495556]\n",
            " [-0.52614461  0.62172917 -0.4864516 ]]\n"
          ],
          "name": "stdout"
        }
      ]
    },
    {
      "cell_type": "markdown",
      "metadata": {
        "id": "fy5t8GALUIdM"
      },
      "source": [
        "PANDA"
      ]
    },
    {
      "cell_type": "code",
      "metadata": {
        "id": "AOBDhkU0ULDk",
        "outputId": "7d9a1d5d-92c8-42bb-f316-6ec3081bd925",
        "colab": {
          "base_uri": "https://localhost:8080/",
          "height": 119
        }
      },
      "source": [
        "# 1 1D Array\n",
        "import pandas as pd\n",
        "ds = pd.Series([2,4,6,8,10])\n",
        "print(ds)"
      ],
      "execution_count": null,
      "outputs": [
        {
          "output_type": "stream",
          "text": [
            "0     2\n",
            "1     4\n",
            "2     6\n",
            "3     8\n",
            "4    10\n",
            "dtype: int64\n"
          ],
          "name": "stdout"
        }
      ]
    },
    {
      "cell_type": "code",
      "metadata": {
        "id": "iuFDpeuRXCML",
        "outputId": "7a893796-a6e8-49e5-b8a2-819ee3cb5582",
        "colab": {
          "base_uri": "https://localhost:8080/",
          "height": 153
        }
      },
      "source": [
        "#2 Cumulative Mul\n",
        "\n",
        "x = [2, 10, np.nan, 4, 3, 0, 1]\n",
        "series = pd.Series(x)\n",
        "cumprod = series.cumprod() \n",
        "cumprod"
      ],
      "execution_count": null,
      "outputs": [
        {
          "output_type": "execute_result",
          "data": {
            "text/plain": [
              "0      2.0\n",
              "1     20.0\n",
              "2      NaN\n",
              "3     80.0\n",
              "4    240.0\n",
              "5      0.0\n",
              "6      0.0\n",
              "dtype: float64"
            ]
          },
          "metadata": {
            "tags": []
          },
          "execution_count": 105
        }
      ]
    },
    {
      "cell_type": "code",
      "metadata": {
        "id": "jk5SJFRxjIlW",
        "outputId": "4ecbfe10-6f79-414f-ed72-df8234814fb1",
        "colab": {
          "base_uri": "https://localhost:8080/",
          "height": 102
        }
      },
      "source": [
        "#3 Markdown\n",
        "# import pandas \n",
        "import pandas as pd \n",
        "  \n",
        "df = pd.DataFrame({\"A\": [1, 2, 3], \n",
        "                   \"B\": [1.3, 2.6, 3.9]},  \n",
        "                    index =['a', 'b', 'c'])\n",
        "c = df.to_markdown()\n",
        "print(c)"
      ],
      "execution_count": null,
      "outputs": [
        {
          "output_type": "stream",
          "text": [
            "|    |   A |   B |\n",
            "|:---|----:|----:|\n",
            "| a  |   1 | 1.3 |\n",
            "| b  |   2 | 2.6 |\n",
            "| c  |   3 | 3.9 |\n"
          ],
          "name": "stdout"
        }
      ]
    },
    {
      "cell_type": "code",
      "metadata": {
        "id": "ARg1Tmw-j-1i",
        "outputId": "9433a579-1c88-42f8-a4a4-5529f46aa817",
        "colab": {
          "base_uri": "https://localhost:8080/",
          "height": 34
        }
      },
      "source": [
        "# 4 Factorial\n",
        "def facto(num): \n",
        "    if num == 2: \n",
        "        return 2\n",
        "    else: \n",
        "        return num * facto(num-1) \n",
        "          print(facto(3)) "
      ],
      "execution_count": null,
      "outputs": [
        {
          "output_type": "stream",
          "text": [
            "6\n"
          ],
          "name": "stdout"
        }
      ]
    },
    {
      "cell_type": "code",
      "metadata": {
        "id": "rGaJtBUcn_uY",
        "outputId": "a0f1af68-48fc-4ee3-d62c-763b3b349bc8",
        "colab": {
          "base_uri": "https://localhost:8080/",
          "height": 34
        }
      },
      "source": [
        "# 5 Upper ()\n",
        "string = 'ABCDEF'\n",
        "print(string.isupper())\n"
      ],
      "execution_count": null,
      "outputs": [
        {
          "output_type": "stream",
          "text": [
            "True\n"
          ],
          "name": "stdout"
        }
      ]
    },
    {
      "cell_type": "code",
      "metadata": {
        "id": "lN9UZcVYo7Bo",
        "outputId": "3e818305-c2a3-4f1a-cbb4-f0add009f514",
        "colab": {
          "base_uri": "https://localhost:8080/",
          "height": 561
        }
      },
      "source": [
        "# 6 Date series\n",
        "import pandas as pd\n",
        "dates = pd.Series(pd.date_range('2020-12-01',periods=31, freq='D'))\n",
        "print(dates)"
      ],
      "execution_count": null,
      "outputs": [
        {
          "output_type": "stream",
          "text": [
            "0    2020-12-01\n",
            "1    2020-12-02\n",
            "2    2020-12-03\n",
            "3    2020-12-04\n",
            "4    2020-12-05\n",
            "5    2020-12-06\n",
            "6    2020-12-07\n",
            "7    2020-12-08\n",
            "8    2020-12-09\n",
            "9    2020-12-10\n",
            "10   2020-12-11\n",
            "11   2020-12-12\n",
            "12   2020-12-13\n",
            "13   2020-12-14\n",
            "14   2020-12-15\n",
            "15   2020-12-16\n",
            "16   2020-12-17\n",
            "17   2020-12-18\n",
            "18   2020-12-19\n",
            "19   2020-12-20\n",
            "20   2020-12-21\n",
            "21   2020-12-22\n",
            "22   2020-12-23\n",
            "23   2020-12-24\n",
            "24   2020-12-25\n",
            "25   2020-12-26\n",
            "26   2020-12-27\n",
            "27   2020-12-28\n",
            "28   2020-12-29\n",
            "29   2020-12-30\n",
            "30   2020-12-31\n",
            "dtype: datetime64[ns]\n"
          ],
          "name": "stdout"
        }
      ]
    },
    {
      "cell_type": "code",
      "metadata": {
        "id": "22fbjwvGvVFg",
        "outputId": "06853f20-1593-4249-fb0a-1f0e32531032",
        "colab": {
          "base_uri": "https://localhost:8080/",
          "height": 34
        }
      },
      "source": [
        "#7 Timestamp\n",
        "import pandas as pd\n",
        "x = pd.Timestamp('2020-02-07')\n",
        "\n",
        "print(x)"
      ],
      "execution_count": null,
      "outputs": [
        {
          "output_type": "stream",
          "text": [
            "2020-02-07 00:00:00\n"
          ],
          "name": "stdout"
        }
      ]
    },
    {
      "cell_type": "code",
      "metadata": {
        "id": "C6T6N-swAaq4",
        "outputId": "33fe86ae-375c-4ee4-8f35-b0cf59a51826",
        "colab": {
          "base_uri": "https://localhost:8080/",
          "height": 34
        }
      },
      "source": [
        "#8 Max row\n",
        "import pandas as pd\n",
        "pd.options.display.max_rows"
      ],
      "execution_count": null,
      "outputs": [
        {
          "output_type": "execute_result",
          "data": {
            "text/plain": [
              "60"
            ]
          },
          "metadata": {
            "tags": []
          },
          "execution_count": 16
        }
      ]
    },
    {
      "cell_type": "code",
      "metadata": {
        "id": "6kj-DCceBaLh"
      },
      "source": [
        "# 9 Cut"
      ],
      "execution_count": null,
      "outputs": []
    },
    {
      "cell_type": "code",
      "metadata": {
        "id": "X8e7MDvTBeFd",
        "outputId": "58942b33-2998-4df1-eb84-04b1cb3de435",
        "colab": {
          "base_uri": "https://localhost:8080/",
          "height": 51
        }
      },
      "source": [
        "pd.cut(np.array([1,7,5,4,6,3]),3)"
      ],
      "execution_count": null,
      "outputs": [
        {
          "output_type": "execute_result",
          "data": {
            "text/plain": [
              "[(0.994, 3.0], (5.0, 7.0], (3.0, 5.0], (3.0, 5.0], (5.0, 7.0], (0.994, 3.0]]\n",
              "Categories (3, interval[float64]): [(0.994, 3.0] < (3.0, 5.0] < (5.0, 7.0]]"
            ]
          },
          "metadata": {
            "tags": []
          },
          "execution_count": 19
        }
      ]
    },
    {
      "cell_type": "code",
      "metadata": {
        "id": "4FYb9UjzDSYW",
        "outputId": "c408b287-47ed-492f-8805-0307fd758bb5",
        "colab": {
          "base_uri": "https://localhost:8080/",
          "height": 85
        }
      },
      "source": [
        "# 10 Numeric conversion\n",
        "s = pd.Series(['1.0','2',-3])\n",
        "pd.to_numeric(s)"
      ],
      "execution_count": null,
      "outputs": [
        {
          "output_type": "execute_result",
          "data": {
            "text/plain": [
              "0    1.0\n",
              "1    2.0\n",
              "2   -3.0\n",
              "dtype: float64"
            ]
          },
          "metadata": {
            "tags": []
          },
          "execution_count": 21
        }
      ]
    },
    {
      "cell_type": "code",
      "metadata": {
        "id": "5WuqThlCD7YP",
        "outputId": "b7e2588e-3b2f-475d-b61f-ff7ddd22621d",
        "colab": {
          "base_uri": "https://localhost:8080/",
          "height": 102
        }
      },
      "source": [
        "#11 Roll count\n",
        "s = pd.Series([2,3,np.nan,10])\n",
        "s.rolling(2).count()"
      ],
      "execution_count": null,
      "outputs": [
        {
          "output_type": "execute_result",
          "data": {
            "text/plain": [
              "0    1.0\n",
              "1    2.0\n",
              "2    1.0\n",
              "3    1.0\n",
              "dtype: float64"
            ]
          },
          "metadata": {
            "tags": []
          },
          "execution_count": 22
        }
      ]
    },
    {
      "cell_type": "code",
      "metadata": {
        "id": "Z3F2WF5XEtcw",
        "outputId": "aa2d3ca8-e398-452d-d0ac-bec2d3b47602",
        "colab": {
          "base_uri": "https://localhost:8080/",
          "height": 34
        }
      },
      "source": [
        "#12 Duplicates\n",
        "idx = pd.Index([1,5,7,7])\n",
        "idx.has_duplicates"
      ],
      "execution_count": null,
      "outputs": [
        {
          "output_type": "execute_result",
          "data": {
            "text/plain": [
              "True"
            ]
          },
          "metadata": {
            "tags": []
          },
          "execution_count": 23
        }
      ]
    },
    {
      "cell_type": "code",
      "metadata": {
        "id": "e60Cpr1UFUbQ",
        "outputId": "63bbcc32-e71b-45c9-e4dd-da0b336b9826",
        "colab": {
          "base_uri": "https://localhost:8080/",
          "height": 119
        }
      },
      "source": [
        "# 13 Index argmin\n",
        "s = pd.Series({'A':50,'B':70,'C':80,'D':150,\"E\":25})\n",
        "s\n",
        "\n"
      ],
      "execution_count": null,
      "outputs": [
        {
          "output_type": "execute_result",
          "data": {
            "text/plain": [
              "A     50\n",
              "B     70\n",
              "C     80\n",
              "D    150\n",
              "E     25\n",
              "dtype: int64"
            ]
          },
          "metadata": {
            "tags": []
          },
          "execution_count": 27
        }
      ]
    },
    {
      "cell_type": "code",
      "metadata": {
        "id": "_0J6S8TZGMG7",
        "outputId": "b4fc1289-ec19-4a27-c54d-481d8eea1cb6",
        "colab": {
          "base_uri": "https://localhost:8080/",
          "height": 119
        }
      },
      "source": [
        "s.argmin"
      ],
      "execution_count": null,
      "outputs": [
        {
          "output_type": "execute_result",
          "data": {
            "text/plain": [
              "<bound method IndexOpsMixin.argmin of A     50\n",
              "B     70\n",
              "C     80\n",
              "D    150\n",
              "E     25\n",
              "dtype: int64>"
            ]
          },
          "metadata": {
            "tags": []
          },
          "execution_count": 28
        }
      ]
    },
    {
      "cell_type": "code",
      "metadata": {
        "id": "HFh9yE0TKaj_",
        "outputId": "ac7e2c48-dac3-4b89-ed92-3be9d1c0fece",
        "colab": {
          "base_uri": "https://localhost:8080/",
          "height": 34
        }
      },
      "source": [
        "idx1 = pd.Index([1,2,3,4])\n",
        "idx2 = pd.Index([3,4,5,6])\n",
        "idx1.union(idx2)\n"
      ],
      "execution_count": null,
      "outputs": [
        {
          "output_type": "execute_result",
          "data": {
            "text/plain": [
              "Int64Index([1, 2, 3, 4, 5, 6], dtype='int64')"
            ]
          },
          "metadata": {
            "tags": []
          },
          "execution_count": 30
        }
      ]
    },
    {
      "cell_type": "code",
      "metadata": {
        "id": "G2sSIh-CGLJx"
      },
      "source": [
        ""
      ],
      "execution_count": null,
      "outputs": []
    }
  ]
}